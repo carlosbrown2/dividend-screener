{
 "metadata": {
  "language_info": {
   "codemirror_mode": {
    "name": "ipython",
    "version": 3
   },
   "file_extension": ".py",
   "mimetype": "text/x-python",
   "name": "python",
   "nbconvert_exporter": "python",
   "pygments_lexer": "ipython3",
   "version": "3.8.2-final"
  },
  "orig_nbformat": 2,
  "kernelspec": {
   "name": "python3",
   "display_name": "Python 3.8.2 64-bit",
   "metadata": {
    "interpreter": {
     "hash": "082e9a3bcad0a290d0001e938aa60b99250c6c2ef33a923c00b70f9826caf4b7"
    }
   }
  }
 },
 "nbformat": 4,
 "nbformat_minor": 2,
 "cells": [
  {
   "cell_type": "code",
   "execution_count": 1,
   "metadata": {},
   "outputs": [],
   "source": [
    "import pandas as pd\n",
    "import yfinance as yf\n",
    "from numpy import nan\n",
    "import requests\n",
    "import datetime"
   ]
  },
  {
   "cell_type": "code",
   "execution_count": null,
   "metadata": {},
   "outputs": [],
   "source": [
    "start = datetime.datetime.now()\n",
    "\n",
    "#import screen criteria\n",
    "settings = pd.read_csv('dividend_settings.txt',)\n",
    "mindiv = float(settings.iloc[0])\n",
    "minchowder = float(settings.iloc[2])\n",
    "maxpe = float(settings.iloc[4])\n",
    "maxpayout = float(settings.iloc[6])\n",
    "maxdebt = float(settings.iloc[8])"
   ]
  },
  {
   "cell_type": "code",
   "execution_count": null,
   "metadata": {},
   "outputs": [],
   "source": [
    "print('Downloading Dividend Champions Sheet...\\n')\n",
    "\n",
    "### READ DIRECTLY WITH PANDAS ###\n",
    "#obtain latest copy of USDividendChampions\n",
    "url = 'https://bitly.com/USDividendChampions'\n",
    "file = requests.get(url)\n",
    "\n",
    "with open('DividendChampions.xlsx','wb') as d:\n",
    "    d.write(file.content)"
   ]
  },
  {
   "cell_type": "code",
   "execution_count": null,
   "metadata": {},
   "outputs": [],
   "source": [
    "print('Processing Dividend Champions Spreadsheet...\\n')\n",
    "\n",
    "#read in the dividend stock data\n",
    "filename = 'DividendChampions.xlsx'\n",
    "df1 = pd.read_excel(filename,sheet_name='Champions')\n",
    "df2 = pd.read_excel(filename,sheet_name='Contenders')\n",
    "df3 = pd.read_excel(filename,sheet_name='Challengers')\n",
    "df_list = [df1,df2,df3]"
   ]
  },
  {
   "cell_type": "code",
   "execution_count": null,
   "metadata": {},
   "outputs": [],
   "source": [
    "#clean data\n",
    "for df in df_list:\n",
    "    df.drop(df.index[0:5], inplace=True)\n",
    "    df.columns = ['Company','Ticker','Sector','Industry','No.Yrs','CCCSeq','DRIP DR', 'Fees SP','Price', 'Div.Yield', 'Current Dividend','Payouts/Year', 'Annualized','Qtly Sch','Previous Payout','Last Increased on:Ex-Div','Last Increased on:Pay','MR%Inc.','DGR 1-yr','DGR 3-yr','DGR 5-yr','DGR 10-yr','5/10 A/D*','Past 5yr DEG','&=MultiIncThisYrNotes','EPS %Payout','TTM P/E','FYE Month','TTM EPS','PEG','TTM P/Sales','MRQ P/Book','TTM ROE','TTM Growth','NY Growth','Past 5yr Growth','Est-5yr Growth','MktCap($Mil)','Inside Own.','Debt/Equity','TweedFactor','Chowder Rule','+/-% vs.Graham','Estimated Div:2018','2019','2020','2021','2022','Est. Payback$','Est. Payback%','5-yr Beta','52-wk Low','52-wk High','50-day MMA','200-day MMA','OTC','StreakBegan','RecessionsSurvived','TTM ROA']\n",
    "    df.drop(df[df['Company']==nan].index,inplace=True)\n",
    "    df.drop(df.index[-15:], inplace=True)\n",
    "#concatenate all df's into master df\n",
    "df = pd.concat(df_list)\n",
    "print('Total # of Stocks considered:',df.shape[0],'\\n')\n",
    "      \n",
    "#convert datatype for columns of interest\n",
    "scr_col = ['Div.Yield','EPS %Payout','Debt/Equity','TTM P/E','Chowder Rule','DGR 1-yr','DGR 3-yr','DGR 5-yr','DGR 10-yr','5/10 A/D*']\n",
    "for col in scr_col:\n",
    "    df[col] = df[col].astype(float)"
   ]
  },
  {
   "cell_type": "code",
   "execution_count": null,
   "metadata": {},
   "outputs": [],
   "source": [
    "print('Fetching latest stock prices...\\n')\n",
    "\n",
    "#get latest stock price\n",
    "ticker_list = list(df.Ticker.unique())\n",
    "ticker_list_clean = [ticker for ticker in ticker_list if isinstance(ticker, str)]\n",
    "quote_date = start.strftime('%Y-%m-%d')\n",
    "start_date = start - datetime.timedelta(days=1)\n",
    "print(quote_date, start_date)\n",
    "dat = yf.download(ticker_list_clean,start=start_date,end=quote_date,group_by='ticker')\n",
    "print(dat.info())"
   ]
  },
  {
   "cell_type": "code",
   "execution_count": null,
   "metadata": {},
   "outputs": [],
   "source": []
  },
  {
   "cell_type": "code",
   "execution_count": null,
   "metadata": {},
   "outputs": [],
   "source": []
  },
  {
   "cell_type": "code",
   "execution_count": null,
   "metadata": {},
   "outputs": [],
   "source": []
  }
 ]
}